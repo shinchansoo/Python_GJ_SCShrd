{
 "cells": [
  {
   "cell_type": "markdown",
   "metadata": {},
   "source": [
    "# 순서대로 배우는 파이썬 첫날!"
   ]
  },
  {
   "cell_type": "markdown",
   "metadata": {},
   "source": [
    "## 첫날 첫 번째 (인사)"
   ]
  },
  {
   "cell_type": "code",
   "execution_count": null,
   "metadata": {},
   "outputs": [
    {
     "name": "stdout",
     "output_type": "stream",
     "text": [
      "안녕하세요~\n"
     ]
    }
   ],
   "source": [
    "print(\"안녕하세요~\")\n",
    "print (\"반갑습니다~!\")"
   ]
  },
  {
   "cell_type": "markdown",
   "metadata": {},
   "source": [
    "## 첫날 두 번째(순서문장)"
   ]
  },
  {
   "cell_type": "code",
   "execution_count": null,
   "metadata": {},
   "outputs": [],
   "source": [
    "print(\"개구리 알\")\n",
    "print(\"꼬리 달린 올챙이\")\n",
    "print(\"뒷 다리 있는 올챙이\")\n",
    "print(\"앞 뒤 다리 있는 올챙이\")\n",
    "print(\"개구리\")"
   ]
  },
  {
   "cell_type": "markdown",
   "metadata": {},
   "source": [
    "## 첫날 세 번째(원하는 값 넣기기)"
   ]
  },
  {
   "cell_type": "code",
   "execution_count": null,
   "metadata": {},
   "outputs": [],
   "source": [
    "name = input(\"이름: \")\n",
    "age = int(input(\"나이: \"))\n",
    "print(\"이름:\", name, \"나이:\", age)"
   ]
  },
  {
   "cell_type": "markdown",
   "metadata": {},
   "source": [
    "## 첫날 네 번째(덧셈 과 곱셈)"
   ]
  },
  {
   "cell_type": "code",
   "execution_count": null,
   "metadata": {},
   "outputs": [],
   "source": [
    "a = int(input(\"정수: \"))\n",
    "b = int(input(\"정수: \"))\n",
    "print(\"덧셈:\", a+b, \"곱셈:\", a*b)"
   ]
  },
  {
   "cell_type": "markdown",
   "metadata": {},
   "source": [
    "## 첫날 다섯 번째(3개의 숫자 덧셈과 평균값값)"
   ]
  },
  {
   "cell_type": "code",
   "execution_count": null,
   "metadata": {},
   "outputs": [],
   "source": [
    "a = int(input(\"성적1: \"))\n",
    "b = int(input(\"성적2: \"))\n",
    "c = int(input(\"성적3: \"))\n",
    "sum = a+b+c\n",
    "print(\"총점:\", sum, \"평균:\", sum/3)"
   ]
  },
  {
   "cell_type": "markdown",
   "metadata": {},
   "source": [
    "## 첫날 여섯 번째(초를 시간,분,초 로 나타내기)"
   ]
  },
  {
   "cell_type": "code",
   "execution_count": null,
   "metadata": {},
   "outputs": [],
   "source": [
    "s = int(input(\"초 단위의 시간: \"))\n",
    "h = s//3600\n",
    "s = s%3600\n",
    "m = s//60\n",
    "s = s%60\n",
    "print(h, \"시간\", m, \"분\", s, \"초\")"
   ]
  },
  {
   "cell_type": "markdown",
   "metadata": {},
   "source": [
    "## 첫날 일곱 번째(3의 배수 5의배수 if~문 elif~문)"
   ]
  },
  {
   "cell_type": "code",
   "execution_count": null,
   "metadata": {},
   "outputs": [],
   "source": [
    "a = int(input(\"정수: \"))\n",
    "if a%3==0 and a%5==0:\n",
    " print (a, \": 3과 5의 배수\")\n",
    "elif a%3==0 and  a%5!=0:\n",
    " print (a, \": 3의 배수는 맞지만 5의 배수는 아님\")\n",
    "elif a%3!=0 and a%5==0:\n",
    " print (a, \": 5의 배수는 맞지만 3의 배수는 아님\")\n",
    "else:\n",
    " print (a, \": 3과 5의 배수 아님\")"
   ]
  },
  {
   "cell_type": "markdown",
   "metadata": {},
   "source": [
    "## 첫날 여덞 번째(나이에 따른 입장료 값 if~문 else 문문)"
   ]
  },
  {
   "cell_type": "code",
   "execution_count": 9,
   "metadata": {},
   "outputs": [
    {
     "name": "stdout",
     "output_type": "stream",
     "text": [
      "입장료: 무료\n"
     ]
    }
   ],
   "source": [
    "age = int(input (\":나이 \"))\n",
    "if age<8 or age>=60:\n",
    " print (\"입장료: 무료\")\n",
    "else:\n",
    " print (\"입장료: 5000원\")"
   ]
  },
  {
   "cell_type": "markdown",
   "metadata": {},
   "source": [
    "## 첫날 아홉 번째(중첩 반복구조 for~문)"
   ]
  },
  {
   "cell_type": "code",
   "execution_count": 6,
   "metadata": {},
   "outputs": [
    {
     "name": "stdout",
     "output_type": "stream",
     "text": [
      "1 1\n",
      "1 2\n",
      "1 3\n",
      "2 1\n",
      "2 2\n",
      "2 3\n"
     ]
    }
   ],
   "source": [
    "for i in range(1, 3, 1):\n",
    "    for j in range(1, 4, 1):\n",
    "        print(i, j)"
   ]
  },
  {
   "cell_type": "markdown",
   "metadata": {},
   "source": [
    "## 첫날 열 번째 (1부터 10까지 출력하기1 for~문)"
   ]
  },
  {
   "cell_type": "code",
   "execution_count": 5,
   "metadata": {},
   "outputs": [
    {
     "name": "stdout",
     "output_type": "stream",
     "text": [
      "1 2 3 4 5 6 7 8 9 10 "
     ]
    }
   ],
   "source": [
    "i=1\n",
    "while i<=10:\n",
    "    print(i, end=\" \")\n",
    "    i = i+1"
   ]
  },
  {
   "cell_type": "markdown",
   "metadata": {},
   "source": [
    "## 첫날 열한 번째 (1부터 10까지 출력하기2 for~문)"
   ]
  },
  {
   "cell_type": "code",
   "execution_count": 4,
   "metadata": {},
   "outputs": [
    {
     "name": "stdout",
     "output_type": "stream",
     "text": [
      "1 2 3 4 5 6 7 8 9 10 "
     ]
    }
   ],
   "source": [
    "for i in range(1, 11):\n",
    " print(i, end=\" \")"
   ]
  },
  {
   "cell_type": "markdown",
   "metadata": {},
   "source": [
    "## 첫날 열두 번째 (10부터 1까지 출력하기 for~문)"
   ]
  },
  {
   "cell_type": "code",
   "execution_count": 3,
   "metadata": {},
   "outputs": [
    {
     "name": "stdout",
     "output_type": "stream",
     "text": [
      "10 9 8 7 6 5 4 3 2 1 "
     ]
    }
   ],
   "source": [
    "for i in range(10, 0, -1):\n",
    " print(i, end=\" \")"
   ]
  },
  {
   "cell_type": "markdown",
   "metadata": {},
   "source": [
    "## 첫날 열세 번째 (1부터 100까지 합구하기)"
   ]
  },
  {
   "cell_type": "code",
   "execution_count": 1,
   "metadata": {},
   "outputs": [
    {
     "name": "stdout",
     "output_type": "stream",
     "text": [
      "5050\n"
     ]
    }
   ],
   "source": [
    "sum = 0\n",
    "for i in range(1, 101):\n",
    "    sum = sum+i\n",
    "print(sum)"
   ]
  },
  {
   "cell_type": "markdown",
   "metadata": {},
   "source": [
    "## 첫날 열네 번째 (1부터 100까지 짝수합구하기1)"
   ]
  },
  {
   "cell_type": "code",
   "execution_count": 7,
   "metadata": {},
   "outputs": [
    {
     "name": "stdout",
     "output_type": "stream",
     "text": [
      "2550\n"
     ]
    }
   ],
   "source": [
    "sum = 0\n",
    "for i in range(2, 101, 2):\n",
    "    sum = sum+i\n",
    "print(sum)"
   ]
  },
  {
   "cell_type": "markdown",
   "metadata": {},
   "source": [
    "## 첫날 열다섯 번째 (1부터 100까지의 짝수 합구하기 2)"
   ]
  },
  {
   "cell_type": "code",
   "execution_count": 8,
   "metadata": {},
   "outputs": [
    {
     "name": "stdout",
     "output_type": "stream",
     "text": [
      "2550\n"
     ]
    }
   ],
   "source": [
    "sum = 0\n",
    "for i in range(1, 101):\n",
    "    if i%2==0:\n",
    "        sum = sum+i\n",
    "print(sum)"
   ]
  },
  {
   "cell_type": "markdown",
   "metadata": {},
   "source": [
    "## 첫날 열여섯 번째 (1,-2,3,-4,...99,-100의 합구하기!)"
   ]
  },
  {
   "cell_type": "code",
   "execution_count": 10,
   "metadata": {},
   "outputs": [
    {
     "name": "stdout",
     "output_type": "stream",
     "text": [
      "-50\n"
     ]
    }
   ],
   "source": [
    "sum = 0\n",
    "for i in range(1, 101):\n",
    "    if i%2==0:\n",
    "         sum=sum-i\n",
    "    else:\n",
    "        sum=sum+i\n",
    "print(sum)"
   ]
  },
  {
   "cell_type": "markdown",
   "metadata": {},
   "source": [
    "## 첫날 열일곱 번째 (계승 구하기)"
   ]
  },
  {
   "cell_type": "code",
   "execution_count": 11,
   "metadata": {},
   "outputs": [
    {
     "name": "stdout",
     "output_type": "stream",
     "text": [
      "120\n"
     ]
    }
   ],
   "source": [
    "fact = 1\n",
    "for i in range(5, 0, -1):\n",
    "    fact = fact*i\n",
    "print(fact)"
   ]
  },
  {
   "cell_type": "markdown",
   "metadata": {},
   "source": [
    "## 첫날 열여덞 번째 (약수 구하기)"
   ]
  },
  {
   "cell_type": "code",
   "execution_count": 12,
   "metadata": {},
   "outputs": [
    {
     "name": "stdout",
     "output_type": "stream",
     "text": [
      "1 3 5 15 "
     ]
    }
   ],
   "source": [
    "n = int(input(\"정수: \"))\n",
    "for i in range(1, n+1):\n",
    "    if n%i == 0:\n",
    "        print(i, end=\" \")"
   ]
  },
  {
   "cell_type": "markdown",
   "metadata": {},
   "source": [
    "## 첫날 열아홉 번쨰 (공약수 구하기)"
   ]
  },
  {
   "cell_type": "code",
   "execution_count": 13,
   "metadata": {},
   "outputs": [
    {
     "name": "stdout",
     "output_type": "stream",
     "text": [
      "1 3 5 15 "
     ]
    }
   ],
   "source": [
    "n1 = int(input(\"정수: \"))\n",
    "n2 = int(input(\"정수: \"))\n",
    "for i in range(1, n1+1):\n",
    "    if n1%i == 0 and n2%i ==0:\n",
    "        print(i, end=\" \")"
   ]
  },
  {
   "cell_type": "markdown",
   "metadata": {},
   "source": [
    "## 첫날 스무 번째(최대 공약수 구하기)"
   ]
  },
  {
   "cell_type": "code",
   "execution_count": 14,
   "metadata": {},
   "outputs": [
    {
     "name": "stdout",
     "output_type": "stream",
     "text": [
      "15\n"
     ]
    }
   ],
   "source": [
    "n1 = int(input(\"정수: \"))\n",
    "n2 = int(input(\"정수: \"))\n",
    "for i in range(n1, 0, -1):\n",
    "    if n1%i==0 and n2%i==0:\n",
    "        print(i)\n",
    "        break"
   ]
  },
  {
   "cell_type": "markdown",
   "metadata": {},
   "source": [
    "## 첫날 스물한 번째 (소수 구하기 )"
   ]
  },
  {
   "cell_type": "code",
   "execution_count": 17,
   "metadata": {},
   "outputs": [
    {
     "name": "stdout",
     "output_type": "stream",
     "text": [
      "19 : 소수임\n"
     ]
    }
   ],
   "source": [
    "chk = 1\n",
    "n = int(input(\"정수: \"))\n",
    "for i in range (2, n):\n",
    "    if n%i == 0:\n",
    "        chk = 0\n",
    "        break\n",
    "if chk==1:\n",
    "    print(n, \": 소수임\")\n",
    "else:\n",
    "    print(n, \": 소수아님\")"
   ]
  },
  {
   "cell_type": "markdown",
   "metadata": {},
   "source": [
    "## 첫날 스물두 번째 (피보나치 수열 구하기)"
   ]
  },
  {
   "cell_type": "code",
   "execution_count": 18,
   "metadata": {},
   "outputs": [
    {
     "name": "stdout",
     "output_type": "stream",
     "text": [
      "1 1 2 3 5 8 13 21 34 55 89 144 233 377 610 987 1597 2584 4181 6765 "
     ]
    }
   ],
   "source": [
    "a = 1\n",
    "b = 1\n",
    "print (a, b, end=\" \")\n",
    "for i in range (3, 21):\n",
    "    c = a+b\n",
    "    print(c, end=\" \")\n",
    "    a = b\n",
    "    b = c"
   ]
  },
  {
   "cell_type": "markdown",
   "metadata": {},
   "source": [
    "## 첫날 스물세 번째 (최댓값 구하기)"
   ]
  },
  {
   "cell_type": "code",
   "execution_count": 20,
   "metadata": {},
   "outputs": [
    {
     "name": "stdout",
     "output_type": "stream",
     "text": [
      "최댓값 : 20\n"
     ]
    }
   ],
   "source": [
    "a = int(input(\"정수: \"))\n",
    "m = a\n",
    "while a!=0:\n",
    "    if a>m:\n",
    "        m = a\n",
    "    a = int(input(\"정수: \"))\n",
    "print(\"최댓값 :\", m)"
   ]
  },
  {
   "cell_type": "markdown",
   "metadata": {},
   "source": [
    "## 첫날 스물네 번째 (직각삼각형모양으로 출력하기)"
   ]
  },
  {
   "cell_type": "code",
   "execution_count": 21,
   "metadata": {},
   "outputs": [
    {
     "name": "stdout",
     "output_type": "stream",
     "text": [
      "1 \n",
      "1 2 \n",
      "1 2 3 \n",
      "1 2 3 4 \n",
      "1 2 3 4 5 \n"
     ]
    }
   ],
   "source": [
    "for i in range(1, 6):\n",
    "    for j in range(1, i+1):\n",
    "        print(j, end=\" \")\n",
    "    print()"
   ]
  },
  {
   "cell_type": "markdown",
   "metadata": {},
   "source": [
    "## 첫날 스물다섯 번쨰(1부터 10까지의 정수에 대한 약수 구하기)"
   ]
  },
  {
   "cell_type": "code",
   "execution_count": 23,
   "metadata": {},
   "outputs": [
    {
     "name": "stdout",
     "output_type": "stream",
     "text": [
      "1 약수:  1 \n",
      "2 약수:  1 2 \n",
      "3 약수:  1 3 \n",
      "4 약수:  1 2 4 \n",
      "5 약수:  1 5 \n",
      "6 약수:  1 2 3 6 \n",
      "7 약수:  1 7 \n",
      "8 약수:  1 2 4 8 \n",
      "9 약수:  1 3 9 \n",
      "10 약수:  1 2 5 10 \n"
     ]
    }
   ],
   "source": [
    "for i in range(1, 11):\n",
    "    print(i, \"약수: \", end=\" \")\n",
    "    for j in range(1, i+1):\n",
    "        if i%j==0:\n",
    "            print(j, end=\" \")\n",
    "    print()"
   ]
  },
  {
   "cell_type": "markdown",
   "metadata": {},
   "source": [
    "## 첫날 스물여섯 번째(2부터 100까지의 소수 구하기)"
   ]
  },
  {
   "cell_type": "code",
   "execution_count": 24,
   "metadata": {},
   "outputs": [
    {
     "name": "stdout",
     "output_type": "stream",
     "text": [
      "2 3 5 7 11 13 17 19 23 29 31 37 41 43 47 53 59 61 67 71 73 79 83 89 97 "
     ]
    }
   ],
   "source": [
    "for i in range(2, 101):\n",
    "    chk = 1\n",
    "    for j in range(2, i):\n",
    "        if i%j==0:\n",
    "            chk = 0\n",
    "            break\n",
    "    if chk==1:\n",
    "        print(i, end=\" \")"
   ]
  },
  {
   "cell_type": "markdown",
   "metadata": {},
   "source": [
    "## 첫날 스물일곱 번째(1. (1+2), (1+2+3)...,(1+2+...10)의 합 구하기기)"
   ]
  },
  {
   "cell_type": "code",
   "execution_count": 27,
   "metadata": {},
   "outputs": [
    {
     "name": "stdout",
     "output_type": "stream",
     "text": [
      "220\n"
     ]
    }
   ],
   "source": [
    "n = 0\n",
    "sum = 0\n",
    "for i in range(1, 11):\n",
    "    n = n+i\n",
    "    sum = sum+n\n",
    "print(sum)"
   ]
  },
  {
   "cell_type": "markdown",
   "metadata": {},
   "source": [
    "## 첫날 스물여덞 번째 (구구단)"
   ]
  },
  {
   "cell_type": "code",
   "execution_count": 29,
   "metadata": {},
   "outputs": [
    {
     "name": "stdout",
     "output_type": "stream",
     "text": [
      "2 * 1 = 2 2 * 2 = 4 2 * 3 = 6 2 * 4 = 8 2 * 5 = 10 2 * 6 = 12 2 * 7 = 14 2 * 8 = 16 2 * 9 = 18 \n",
      "3 * 1 = 3 3 * 2 = 6 3 * 3 = 9 3 * 4 = 12 3 * 5 = 15 3 * 6 = 18 3 * 7 = 21 3 * 8 = 24 3 * 9 = 27 \n",
      "4 * 1 = 4 4 * 2 = 8 4 * 3 = 12 4 * 4 = 16 4 * 5 = 20 4 * 6 = 24 4 * 7 = 28 4 * 8 = 32 4 * 9 = 36 \n",
      "5 * 1 = 5 5 * 2 = 10 5 * 3 = 15 5 * 4 = 20 5 * 5 = 25 5 * 6 = 30 5 * 7 = 35 5 * 8 = 40 5 * 9 = 45 \n",
      "6 * 1 = 6 6 * 2 = 12 6 * 3 = 18 6 * 4 = 24 6 * 5 = 30 6 * 6 = 36 6 * 7 = 42 6 * 8 = 48 6 * 9 = 54 \n",
      "7 * 1 = 7 7 * 2 = 14 7 * 3 = 21 7 * 4 = 28 7 * 5 = 35 7 * 6 = 42 7 * 7 = 49 7 * 8 = 56 7 * 9 = 63 \n",
      "8 * 1 = 8 8 * 2 = 16 8 * 3 = 24 8 * 4 = 32 8 * 5 = 40 8 * 6 = 48 8 * 7 = 56 8 * 8 = 64 8 * 9 = 72 \n",
      "9 * 1 = 9 9 * 2 = 18 9 * 3 = 27 9 * 4 = 36 9 * 5 = 45 9 * 6 = 54 9 * 7 = 63 9 * 8 = 72 9 * 9 = 81 \n"
     ]
    }
   ],
   "source": [
    "for i in range(2, 10):\n",
    "    for j in range(1, 10):\n",
    "        print(i, \"*\", j, \"=\", i*j, end=\" \")\n",
    "    print()"
   ]
  },
  {
   "cell_type": "markdown",
   "metadata": {},
   "source": [
    "#  "
   ]
  },
  {
   "cell_type": "markdown",
   "metadata": {},
   "source": [
    "#"
   ]
  },
  {
   "cell_type": "markdown",
   "metadata": {},
   "source": [
    "# 순서대로 배우는 파이썬 둘째날"
   ]
  },
  {
   "cell_type": "markdown",
   "metadata": {},
   "source": [
    "## 둘째날 첫 번째(1부터 10까지의 수 저장하고 출력하기)\n"
   ]
  },
  {
   "cell_type": "code",
   "execution_count": 2,
   "metadata": {},
   "outputs": [
    {
     "name": "stdout",
     "output_type": "stream",
     "text": [
      "[1, 2, 3, 4, 5, 6, 7, 8, 9, 10]\n"
     ]
    }
   ],
   "source": [
    "a = []\n",
    "for i in range(1, 11):\n",
    "    a.append(i)\n",
    "print(a)"
   ]
  },
  {
   "cell_type": "markdown",
   "metadata": {},
   "source": [
    "## 둘째날 두 번째(10,20,30...,100 저장하고 거꾸로 출력하기기) "
   ]
  },
  {
   "cell_type": "code",
   "execution_count": 3,
   "metadata": {},
   "outputs": [
    {
     "name": "stdout",
     "output_type": "stream",
     "text": [
      "100 90 80 70 60 50 40 30 20 10 "
     ]
    }
   ],
   "source": [
    "a = []\n",
    "for i in range(10, 101, 10):\n",
    "    a.append(i)\n",
    "for i in range(9, -1, -1):\n",
    "    print(a[i], end=\" \")"
   ]
  },
  {
   "cell_type": "markdown",
   "metadata": {},
   "source": [
    "## 둘째날 세 번째(배열 요소 거꾸로 뒤집기)"
   ]
  },
  {
   "cell_type": "code",
   "execution_count": 1,
   "metadata": {},
   "outputs": [
    {
     "name": "stdout",
     "output_type": "stream",
     "text": [
      "[10, 9, 8, 7, 6, 5, 4, 3, 2, 1]\n"
     ]
    }
   ],
   "source": [
    "a = [1, 2, 3, 4, 5, 6, 7, 8, 9, 10]\n",
    "for i in range(0, 5):\n",
    "    temp = a[i]\n",
    "    a[i] = a[9-i]\n",
    "    a[9-i] = temp\n",
    "print(a)"
   ]
  },
  {
   "cell_type": "markdown",
   "metadata": {},
   "source": [
    "## 둘째날 네 번쨰(배열 a요소 배열b에 거꾸로 저장하기)"
   ]
  },
  {
   "cell_type": "code",
   "execution_count": 2,
   "metadata": {},
   "outputs": [
    {
     "name": "stdout",
     "output_type": "stream",
     "text": [
      "[10, 9, 8, 7, 6, 5, 4, 3, 2, 1]\n"
     ]
    }
   ],
   "source": [
    "a = [1, 2, 3, 4, 5, 6, 7, 8, 9, 10]\n",
    "b = []\n",
    "for i in range(0, 10):\n",
    "    b.append(a[9-i])\n",
    "print(b)"
   ]
  },
  {
   "cell_type": "markdown",
   "metadata": {},
   "source": [
    "## 둘째날 다섯 번째(배열 요소 왼쪽으로 한 칸씩 원형으로 이동하기)"
   ]
  },
  {
   "cell_type": "code",
   "execution_count": 3,
   "metadata": {},
   "outputs": [
    {
     "name": "stdout",
     "output_type": "stream",
     "text": [
      "[2, 3, 4, 5, 6, 7, 8, 9, 10, 1]\n"
     ]
    }
   ],
   "source": [
    "a = [1, 2, 3, 4, 5, 6, 7, 8, 9, 10]\n",
    "temp = a[0]\n",
    "for i in range(0, 9):\n",
    "    a[i] = a[i+1]\n",
    "a[9] = temp\n",
    "print(a)"
   ]
  },
  {
   "cell_type": "markdown",
   "metadata": {},
   "source": [
    "## 둘째날 여섯 번째(배열 최댓값 구하기)"
   ]
  },
  {
   "cell_type": "code",
   "execution_count": 7,
   "metadata": {},
   "outputs": [
    {
     "name": "stdout",
     "output_type": "stream",
     "text": [
      "[26, 26, 9, 3, 39, 27, 50, 16, 29, 30]\n",
      "최댓값: 50\n"
     ]
    }
   ],
   "source": [
    "import random\n",
    "a = []\n",
    "for i in range(10):\n",
    "    a.append(random.randint(1, 100))\n",
    "print(a)\n",
    "m = a[0]\n",
    "for i in range(1, 10):\n",
    "    if m<a[i]:\n",
    "        m = a[i]\n",
    "print(\"최댓값:\", m)"
   ]
  },
  {
   "cell_type": "markdown",
   "metadata": {},
   "source": [
    "## 둘째날 일곱 번째 (에라토스테네스의 체)"
   ]
  },
  {
   "cell_type": "code",
   "execution_count": 9,
   "metadata": {},
   "outputs": [
    {
     "name": "stdout",
     "output_type": "stream",
     "text": [
      "2 3 5 7 11 13 17 19 23 29 31 37 41 43 47 53 59 61 67 71 73 79 83 89 97 "
     ]
    }
   ],
   "source": [
    "a = []\n",
    "for i in range(1, 102):\n",
    "    a.append(0)\n",
    "for i in range(2, 101):\n",
    "    if a[i]==0:\n",
    "        for j in range(i*2, 101, i):\n",
    "            a[j] = 1\n",
    "for i in range(2, 101):\n",
    "    if a[i]==0:\n",
    "        print(i, end=\" \")"
   ]
  },
  {
   "cell_type": "markdown",
   "metadata": {},
   "source": [
    "## 둘째날 여덞 번째(10진수를 2진수로 변환하여 배열에 저장하기)"
   ]
  },
  {
   "cell_type": "code",
   "execution_count": 15,
   "metadata": {},
   "outputs": [
    {
     "name": "stdout",
     "output_type": "stream",
     "text": [
      "1 0 1 0 0 0 "
     ]
    }
   ],
   "source": [
    "b = []\n",
    "n = int(input(\"10진수: \"))\n",
    "while n!=0:\n",
    "    b.append(n%2)\n",
    "    n = n//2\n",
    "for i in range(len(b)-1, -1, -1):\n",
    "    print(b[i], end=\" \")"
   ]
  },
  {
   "cell_type": "markdown",
   "metadata": {},
   "source": [
    "## 둘째날 아홉 번째 (배열에 저장된 2진수를 10진수로 변환하기)"
   ]
  },
  {
   "cell_type": "code",
   "execution_count": 16,
   "metadata": {},
   "outputs": [
    {
     "name": "stdout",
     "output_type": "stream",
     "text": [
      "25\n"
     ]
    }
   ],
   "source": [
    "b = [1,1,0,0,1]\n",
    "n = 0\n",
    "for i in range(0, 5):\n",
    "    n = n + b[i]*(2**(4-i))\n",
    "print(n)"
   ]
  },
  {
   "cell_type": "markdown",
   "metadata": {},
   "source": [
    "## 둘째날 열 번째 (선형 탐색)"
   ]
  },
  {
   "cell_type": "code",
   "execution_count": 18,
   "metadata": {},
   "outputs": [
    {
     "name": "stdout",
     "output_type": "stream",
     "text": [
      "7 에서 탐색성공\n"
     ]
    }
   ],
   "source": [
    "a = [26 ,27, 39,63, 57, 75, 11, 76, 80, 18]\n",
    "key = int(input(\"키: \"))\n",
    "cnt = 0\n",
    "while cnt<10:\n",
    "    if key == a[cnt]:\n",
    "        print(cnt, \"에서 탐색성공\")\n",
    "        break\n",
    "    cnt = cnt+1\n",
    "if cnt == 10:\n",
    "    print(\"탐색 실패\")"
   ]
  },
  {
   "cell_type": "markdown",
   "metadata": {},
   "source": [
    "## 둘째날 열 한번째(이진 탐색색)"
   ]
  },
  {
   "cell_type": "code",
   "execution_count": 19,
   "metadata": {},
   "outputs": [
    {
     "name": "stdout",
     "output_type": "stream",
     "text": [
      "4 에서 탐색성공\n"
     ]
    }
   ],
   "source": [
    "a = [11, 18, 26, 27, 39, 57, 63, 75, 76, 80]\n",
    "key = int(input(\"키: \"))\n",
    "low = 0 \n",
    "high = 9\n",
    "while low<=high:\n",
    "    mid = (low+high)//2\n",
    "    if key == a[mid]:\n",
    "        print(mid, \"에서 탐색성공\")\n",
    "        break\n",
    "    elif key < a[mid]:\n",
    "        high = mid-1\n",
    "    else:\n",
    "        low = mid+1\n",
    "if low>high:\n",
    "    pirnt(\"탐색 실패\")"
   ]
  },
  {
   "cell_type": "markdown",
   "metadata": {},
   "source": [
    "## 둘째날 열 두번째 (선택 정렬)"
   ]
  },
  {
   "cell_type": "code",
   "execution_count": 21,
   "metadata": {},
   "outputs": [
    {
     "name": "stdout",
     "output_type": "stream",
     "text": [
      "[10, 20, 30, 40, 50, 60]\n"
     ]
    }
   ],
   "source": [
    "a = [20, 50, 30, 10, 60, 40]\n",
    "for i in range(0, 5):\n",
    "    m = i\n",
    "    for j in range(i+1, 6):\n",
    "        if a[j]<a[m]:\n",
    "            m = j\n",
    "    temp = a[i]\n",
    "    a[i] = a[m]\n",
    "    a[m] = temp\n",
    "print(a) "
   ]
  },
  {
   "cell_type": "markdown",
   "metadata": {},
   "source": [
    "## 둘째날 열 세번째 (버블 정렬)"
   ]
  },
  {
   "cell_type": "code",
   "execution_count": 23,
   "metadata": {},
   "outputs": [
    {
     "name": "stdout",
     "output_type": "stream",
     "text": [
      "[10, 20, 30, 40, 50, 60]\n"
     ]
    }
   ],
   "source": [
    "a = [20, 50 ,30, 10, 60, 40]\n",
    "for i in range(0, 5):\n",
    "    for j in range(0, 5-i):\n",
    "        if a[j]>a[j+1]:\n",
    "            temp = a[j]\n",
    "            a[j] = a[j+1]\n",
    "            a[j+1] = temp\n",
    "print(a)"
   ]
  },
  {
   "cell_type": "markdown",
   "metadata": {},
   "source": [
    "## 둘째날 열네 번째 (병합 정렬)"
   ]
  },
  {
   "cell_type": "code",
   "execution_count": 24,
   "metadata": {},
   "outputs": [
    {
     "name": "stdout",
     "output_type": "stream",
     "text": [
      "[1, 3, 3, 4, 5, 6, 7, 8]\n"
     ]
    }
   ],
   "source": [
    "a = [1, 3, 5, 7]\n",
    "b = [3, 4, 6, 8]\n",
    "c = []\n",
    "i = 0\n",
    "j = 0\n",
    "while i<4 and j<4:\n",
    "    if a[i]<b[j]:\n",
    "        c.append(a[i])\n",
    "        i = i+1\n",
    "    else:\n",
    "        c.append(b[j])\n",
    "        j = j+1\n",
    "if i==4:\n",
    "    while j<4:\n",
    "        c.append(b[j])\n",
    "        j = j+1\n",
    "else:\n",
    "    while i<4:\n",
    "        c.append(a[i])\n",
    "        i = i+1\n",
    "print(c)\n",
    "              "
   ]
  },
  {
   "cell_type": "code",
   "execution_count": 30,
   "metadata": {},
   "outputs": [
    {
     "name": "stdout",
     "output_type": "stream",
     "text": [
      "[1, 3, 8, 11, 15]\n"
     ]
    }
   ],
   "source": [
    "a = [15, 11, 1, 3, 8]\n",
    "for i in range(0, 4):\n",
    "    m = i\n",
    "    for j in range(i+1, 5):\n",
    "        if a[j]<a[m]:\n",
    "            m = j\n",
    "    temp = a[i]\n",
    "    a[i] = a[m]\n",
    "    a[m] = temp\n",
    "print(a)\n"
   ]
  },
  {
   "cell_type": "markdown",
   "metadata": {},
   "source": [
    "## 둘째날 열다섯 번째 (함수 이용해서 두 수 중 큰 수 찾기기)"
   ]
  },
  {
   "cell_type": "code",
   "execution_count": null,
   "metadata": {},
   "outputs": [
    {
     "name": "stdout",
     "output_type": "stream",
     "text": [
      "7\n"
     ]
    }
   ],
   "source": [
    "def func(a,b):\n",
    "    if a>b:\n",
    "        return a\n",
    "    else:\n",
    "        return b\n",
    "a = int(input(\"정수: \"))\n",
    "b = int(input(\"정수: \"))\n",
    "r = func(a,b)\n",
    "print(r)\n",
    "# a 정수는 7, b 정수는 3"
   ]
  },
  {
   "cell_type": "code",
   "execution_count": 34,
   "metadata": {},
   "outputs": [
    {
     "name": "stdout",
     "output_type": "stream",
     "text": [
      "3\n"
     ]
    }
   ],
   "source": [
    "def func(a,b):\n",
    "    if a<b:\n",
    "        return a\n",
    "    else:\n",
    "        return b\n",
    "a = int(input(\"정수: \"))\n",
    "b = int(input(\"정수: \"))\n",
    "r = func(a,b)\n",
    "print(r)"
   ]
  },
  {
   "cell_type": "markdown",
   "metadata": {},
   "source": [
    "## 둘째날 열여섯 번째 (함수 이용해서 세 수 중 큰 수 찾기기) "
   ]
  },
  {
   "cell_type": "code",
   "execution_count": 32,
   "metadata": {},
   "outputs": [
    {
     "name": "stdout",
     "output_type": "stream",
     "text": [
      "7\n"
     ]
    }
   ],
   "source": [
    "def func(a,b,c):\n",
    "    if a>b:\n",
    "        if a>c:\n",
    "            return a\n",
    "        else:\n",
    "            return c\n",
    "    else:\n",
    "        if b>c:\n",
    "            return b\n",
    "        else:\n",
    "            return c\n",
    "a = int(input(\"정수: \"))\n",
    "b = int(input(\"정수: \"))\n",
    "c = int(input(\"정수: \"))\n",
    "r = func(a,b,c)\n",
    "print(r)\n",
    "# a 정수는 4, b정수는 7 ,c 정수는 5"
   ]
  },
  {
   "cell_type": "markdown",
   "metadata": {},
   "source": [
    "## 둘째날 열일곱 번째 (함수 이용해서 1부터 10까지의 약수 구하기) "
   ]
  },
  {
   "cell_type": "code",
   "execution_count": 38,
   "metadata": {},
   "outputs": [
    {
     "name": "stdout",
     "output_type": "stream",
     "text": [
      "1 : 1 \n",
      "2 : 1 2 \n",
      "3 : 1 3 \n",
      "4 : 1 2 4 \n",
      "5 : 1 5 \n",
      "6 : 1 2 3 6 \n",
      "7 : 1 7 \n",
      "8 : 1 2 4 8 \n",
      "9 : 1 3 9 \n",
      "10 : 1 2 5 10 \n"
     ]
    }
   ],
   "source": [
    "def func(a):\n",
    "    for i in range(1, a+1):\n",
    "        if a%i==0:\n",
    "            print(i, end=\" \")\n",
    "for i in range(1, 11):\n",
    "    print(i, \":\", end=\" \")\n",
    "    func(i)\n",
    "    print()"
   ]
  },
  {
   "cell_type": "code",
   "execution_count": 44,
   "metadata": {},
   "outputs": [
    {
     "name": "stdout",
     "output_type": "stream",
     "text": [
      "2 : 소수임\n",
      "3 : 소수임\n",
      "4 : 소수아님\n",
      "5 : 소수임\n",
      "6 : 소수아님\n",
      "7 : 소수임\n",
      "8 : 소수아님\n",
      "9 : 소수아님\n",
      "10 : 소수아님\n"
     ]
    }
   ],
   "source": [
    "def func(a):\n",
    "    chk = 1\n",
    "    for i in range(2, a):\n",
    "        if a%i==0:\n",
    "            chk = 0\n",
    "            break\n",
    "    if chk==1:\n",
    "        print(a, \": 소수임\")\n",
    "    else:\n",
    "        print(a, \": 소수아님\")\n",
    "for i in range(2, 11):\n",
    "    func(i)"
   ]
  },
  {
   "cell_type": "markdown",
   "metadata": {},
   "source": [
    "## 둘째날 열여덞 번째 (재귀함수 이용해서 1부터 입력 받은 수까지의 합 구하기기)"
   ]
  },
  {
   "cell_type": "code",
   "execution_count": null,
   "metadata": {},
   "outputs": [
    {
     "name": "stdout",
     "output_type": "stream",
     "text": [
      "55\n"
     ]
    }
   ],
   "source": [
    "def s(a):\n",
    "    if a<=1:\n",
    "        return 1\n",
    "    return a+s(a-1)\n",
    "n = int(input(\"정수: \"))\n",
    "result = s(n)\n",
    "print(result)\n",
    "# 정수 10 입력!\n"
   ]
  },
  {
   "cell_type": "code",
   "execution_count": 49,
   "metadata": {},
   "outputs": [
    {
     "name": "stdout",
     "output_type": "stream",
     "text": [
      "120\n"
     ]
    }
   ],
   "source": [
    "def fact(a):\n",
    "    if a<=1:\n",
    "        return 1\n",
    "    return a*fact(a-1)\n",
    "n = int(input(\"정수: \"))\n",
    "result = fact(n)\n",
    "print(result)"
   ]
  },
  {
   "cell_type": "markdown",
   "metadata": {},
   "source": [
    "## 둘째날 열아홉 번째(재귀함수 이용해서 피보나치수열 구하기)"
   ]
  },
  {
   "cell_type": "code",
   "execution_count": 50,
   "metadata": {},
   "outputs": [
    {
     "name": "stdout",
     "output_type": "stream",
     "text": [
      "13\n"
     ]
    }
   ],
   "source": [
    "def fibo(a):\n",
    "    if a<=2:\n",
    "        return 1\n",
    "    return fibo(a-1)+fibo(a-2)\n",
    "n = int(input(\"정수: \"))\n",
    "result = fibo(n)\n",
    "print(result)"
   ]
  }
 ],
 "metadata": {
  "kernelspec": {
   "display_name": "Python 3",
   "language": "python",
   "name": "python3"
  },
  "language_info": {
   "codemirror_mode": {
    "name": "ipython",
    "version": 3
   },
   "file_extension": ".py",
   "mimetype": "text/x-python",
   "name": "python",
   "nbconvert_exporter": "python",
   "pygments_lexer": "ipython3",
   "version": "3.13.2"
  }
 },
 "nbformat": 4,
 "nbformat_minor": 2
}
